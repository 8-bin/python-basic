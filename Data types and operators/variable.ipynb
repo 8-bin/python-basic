{
 "cells": [
  {
   "cell_type": "markdown",
   "id": "536b6af8",
   "metadata": {},
   "source": [
    "### 변수(Variable)\n",
    "- 변수(Variable) :프로그램이 실행되는 동안 상황에 따라 변하는 값을 저장\n",
    "- 변수가 없다면 : 코드 내에서 매번 값을 지정해야해서서 코드를 작성하거나 수정하기 어려움\n",
    "- 변수 사용 이점 : 변수는 코드 내에서 자료를 일관성 있게 사용하고 관리하기 위해서 이름(identifier)을 부여해 다른 변수 또는 자료와 구분해서 사용할 수 있도록 한다."
   ]
  },
  {
   "cell_type": "code",
   "execution_count": 1,
   "id": "acc24a6a",
   "metadata": {},
   "outputs": [
    {
     "data": {
      "text/plain": [
       "78.5"
      ]
     },
     "execution_count": 1,
     "metadata": {},
     "output_type": "execute_result"
    }
   ],
   "source": [
    "5 * 5 * 3.14"
   ]
  },
  {
   "cell_type": "code",
   "execution_count": 2,
   "id": "39f5706c",
   "metadata": {},
   "outputs": [
    {
     "data": {
      "text/plain": [
       "113.04"
      ]
     },
     "execution_count": 2,
     "metadata": {},
     "output_type": "execute_result"
    }
   ],
   "source": [
    "6 * 6 * 3.14"
   ]
  },
  {
   "cell_type": "code",
   "execution_count": 9,
   "id": "775431eb",
   "metadata": {},
   "outputs": [
    {
     "name": "stdout",
     "output_type": "stream",
     "text": [
      "78.5\n"
     ]
    }
   ],
   "source": [
    "r = 5 \n",
    "area = r * r * 3.14\n",
    "print(area)"
   ]
  },
  {
   "cell_type": "markdown",
   "id": "2d24d3d9",
   "metadata": {},
   "source": [
    "- 변수 선언\n",
    "    - 값을 저장할 수 있는 변수를 만드는 것\n",
    "    - 변수 선언을 위해서는 변수에 어떤 종류의 값이 저장되어야 하는지 알리기 위한 타입이 있어야 한다.\n",
    "    - 파이썬은 변수를 선언하기 위한 타입이 없기 때문에 변수 선언 과정이 없다.\n",
    "- 변수 할당\n",
    "    - 어떤 값이 이름을 갖도록 하는 과정 \n",
    "    - '=' 대입 연산자를 이용\n",
    "    - 변수의_이름 = 연산_결과_값값"
   ]
  },
  {
   "cell_type": "code",
   "execution_count": null,
   "id": "3c5bb85e",
   "metadata": {},
   "outputs": [],
   "source": [
    "# 반지름 5를 저장하기 위해서 다음과 같이 r이라는 변수에 값 5를 대입한다.\n",
    "r = 5"
   ]
  },
  {
   "cell_type": "markdown",
   "id": "faf0c2ad",
   "metadata": {},
   "source": [
    "### 변수 이름 규칙\n",
    "- 변수의 이름은 문자, 숫자, 밑줄(_(underscore))문자를 포함하며, 대/소문자를 구분\n",
    "- 숫자로 시작할 수 없으며, 밑줄 문자를 제외한 특수문자, 공백, 문장부호 등은 사용 불가\n",
    "- 파이썬의 예약어는 사용할 수 없다. (예시: class, def 등)\n",
    "- 사용 중인 내장 함수나 모듈 이름 등은 사용 지양 (예시: id, list, print)"
   ]
  },
  {
   "cell_type": "code",
   "execution_count": 9,
   "id": "dc637659",
   "metadata": {},
   "outputs": [],
   "source": [
    "# 2000year = 2000\n",
    "# 변수명이 숫자로 시작했기 때문에 \"SyntaxError: invalid decimal literal\"가 발생한다."
   ]
  },
  {
   "cell_type": "code",
   "execution_count": 8,
   "id": "2a108042",
   "metadata": {},
   "outputs": [],
   "source": [
    "year2000 = 2000"
   ]
  },
  {
   "cell_type": "code",
   "execution_count": 12,
   "id": "41d91a7d",
   "metadata": {},
   "outputs": [],
   "source": [
    "# class = 20\n",
    "# 파이썬의 예약어를 변수명으로 사용했기 때문에 \"SyntaxError: invalid syntax\" 가 발생한다."
   ]
  },
  {
   "cell_type": "code",
   "execution_count": 17,
   "id": "1026f2d1",
   "metadata": {},
   "outputs": [
    {
     "name": "stdout",
     "output_type": "stream",
     "text": [
      "Class : 1\n",
      "class_ : 2\n"
     ]
    }
   ],
   "source": [
    "# 부득이하게 파이썬의 예약어를 변수명으로 사용해야 하는 경우에는 예약어 뒤에 '_'(underscore)를 이용하거나 (예시: class_)\n",
    "# 대소문자를 이용하여 구분한다. (예시: Class)\n",
    "Class = 1\n",
    "class_ = 2\n",
    "\n",
    "print('Class :', Class)\n",
    "print('class_ :', class_)"
   ]
  },
  {
   "cell_type": "code",
   "execution_count": 2,
   "id": "0bbd2b99",
   "metadata": {},
   "outputs": [
    {
     "name": "stdout",
     "output_type": "stream",
     "text": [
      "print_ : data\n"
     ]
    }
   ],
   "source": [
    "# 'print = 30'의 형식처럼 print를 변수명으로 사용하더라도 SystaxError가 발생하지는 않지만\n",
    "# 이후 print() 함수를 사용하려고 하면 TypeError가 발생한다.\n",
    "print_ = \"data\"\n",
    "print('print_ :', print_)"
   ]
  },
  {
   "cell_type": "markdown",
   "id": "3490b588",
   "metadata": {},
   "source": [
    "- 파이썬 커널을 재시작하면 현재 커널에 선언 되어있는 모든 변수들이 초기화된다."
   ]
  },
  {
   "cell_type": "markdown",
   "id": "8ce1693f",
   "metadata": {},
   "source": [
    "### 변수 할당\n",
    "- 할당(Assignment)은 변수에 값을 저장하는 것을 의미한다.\n",
    "- 파이썬에서 변수에 값을 저장하기 위해서는 대입 연산자 '=' 기호를 사용한다."
   ]
  },
  {
   "cell_type": "code",
   "execution_count": 16,
   "id": "2b4525b3",
   "metadata": {},
   "outputs": [],
   "source": [
    "# int a = 10\n",
    "# 파이썬 변수 선언에서 데이터 타입을 지정하는 경우 \"SyntaxError: invalid syntax\"가 발생한다."
   ]
  },
  {
   "cell_type": "markdown",
   "id": "ef53ec97",
   "metadata": {},
   "source": [
    "### id( )\n",
    "- 변수(Variable) : 변수는 파이썬에서 가장 많이 사용되는 객체(Object)\n",
    "- id( ) 함수 : 객체의 주소를 출력한다."
   ]
  },
  {
   "cell_type": "code",
   "execution_count": 8,
   "id": "059e62d0",
   "metadata": {},
   "outputs": [
    {
     "name": "stdout",
     "output_type": "stream",
     "text": [
      "x의 값 :  100\n",
      "x의 주소 :  140732876075016\n"
     ]
    }
   ],
   "source": [
    "x = 100 # 변수 x에 100을 할당한다.\n",
    "print('x의 값 : ', x) # 변수 x에 저장된된 값을 출력한다.\n",
    "print('x의 주소 : ', id(x)) # 변수 x의 주소값을 출력한다."
   ]
  },
  {
   "cell_type": "markdown",
   "id": "3d871915",
   "metadata": {},
   "source": [
    "### 다중 변수 선언\n",
    "- 한 라인에 여러 개 변수를 선언해 사용할 수 있다.\n",
    "- 변수에 값의 할당 작업은 순차적으로 발생하는 것은 아니다."
   ]
  },
  {
   "cell_type": "code",
   "execution_count": 12,
   "id": "c9ce8e62",
   "metadata": {},
   "outputs": [
    {
     "name": "stdout",
     "output_type": "stream",
     "text": [
      "a의 값 :  10\n",
      "b의 값 :  20\n"
     ]
    }
   ],
   "source": [
    "a, b = 10, 20\n",
    "print('a의 값 : ', a)\n",
    "print('b의 값 : ', b)"
   ]
  },
  {
   "cell_type": "code",
   "execution_count": null,
   "id": "74695b13",
   "metadata": {},
   "outputs": [
    {
     "name": "stdout",
     "output_type": "stream",
     "text": [
      "(10, 20)\n"
     ]
    }
   ],
   "source": [
    "# 그런데 만약 아래와 같이 하나의 변수에 두 개 이상의 값을 할당했다면?\n",
    "a = 10, 20\n",
    "print(a) \n",
    "# 이러한 경우에는 tuple 데이터 구조로 저장된다."
   ]
  },
  {
   "cell_type": "code",
   "execution_count": null,
   "id": "093c7495",
   "metadata": {},
   "outputs": [
    {
     "name": "stdout",
     "output_type": "stream",
     "text": [
      "20 30\n"
     ]
    }
   ],
   "source": [
    "a, b = 10, 20\n",
    "a, b = b, a+b\n",
    "\n",
    "# 처음 변수 할당 과정에서 a=10, b=20 이렇게 할당이 되고\n",
    "# 두 번째 변수 할당 과정에서 a=b(20)이 되고 그 다음 b=a(20)+b(20) \n",
    "# 즉, a=20, b=40이라고 생각할 수 있는데 이는 틀렸다.\n",
    "# 변수 할당이 순차적으로 일어나지 않고 한 번에 일괄적으로 일어나기 때문에\n",
    "# a=20, b=40이 아닌 a=20, b=30이라고 생각해야 한다.\n",
    "\n",
    "print(a, b)"
   ]
  },
  {
   "cell_type": "code",
   "execution_count": null,
   "id": "1bcb9c52",
   "metadata": {},
   "outputs": [
    {
     "name": "stdout",
     "output_type": "stream",
     "text": [
      "20 40\n"
     ]
    }
   ],
   "source": [
    "# 만약 변수 할당 과정이 순차적으로 일어나기를 바란다면 아래와 같이 코드를 작성해야 한다.\n",
    "a, b = 10, 20\n",
    "a = b\n",
    "b = a+b\n",
    "\n",
    "print(a, b)"
   ]
  },
  {
   "cell_type": "markdown",
   "id": "9c26ea2d",
   "metadata": {},
   "source": [
    "### help([x])\n",
    "- x : 도움말을 얻을 함수의 이름\n",
    "- 대괄호([ ])는 선택 사항임을 의미한다."
   ]
  },
  {
   "cell_type": "code",
   "execution_count": 21,
   "id": "0f8186d4",
   "metadata": {},
   "outputs": [
    {
     "name": "stdout",
     "output_type": "stream",
     "text": [
      "Help on built-in function print in module builtins:\n",
      "\n",
      "print(*args, sep=' ', end='\\n', file=None, flush=False)\n",
      "    Prints the values to a stream, or to sys.stdout by default.\n",
      "\n",
      "    sep\n",
      "      string inserted between values, default a space.\n",
      "    end\n",
      "      string appended after the last value, default a newline.\n",
      "    file\n",
      "      a file-like object (stream); defaults to the current sys.stdout.\n",
      "    flush\n",
      "      whether to forcibly flush the stream.\n",
      "\n"
     ]
    }
   ],
   "source": [
    "# 아래와 같이 help()함수를 이용해서 print() 함수에 대한 도움말을 받을 수 있다.\n",
    "help(print)"
   ]
  },
  {
   "cell_type": "markdown",
   "id": "4fb506f6",
   "metadata": {},
   "source": [
    "- help( ) 단독으로 사용했을 경우에는 인터랙티브 도움말 모드로 들어간다.\n",
    "- \"modules\", \"keywords\", \"symbols\", \"topics\"를 입력하면 각 항목의 전체 리스트를 볼 수 있다.\n",
    "    - help(\"modules\")   # 설치된 모든 모듈 목록 출력\n",
    "    - help(\"for\")       # 'for' 키워드 설명\n",
    "    - help(\"math\")      # math 모듈에 대한 설명\n",
    "    - help(str)         # str 클래스에 대한 설명"
   ]
  },
  {
   "cell_type": "code",
   "execution_count": null,
   "id": "356bfdf6",
   "metadata": {},
   "outputs": [],
   "source": [
    "help()"
   ]
  }
 ],
 "metadata": {
  "kernelspec": {
   "display_name": ".venv",
   "language": "python",
   "name": "python3"
  },
  "language_info": {
   "codemirror_mode": {
    "name": "ipython",
    "version": 3
   },
   "file_extension": ".py",
   "mimetype": "text/x-python",
   "name": "python",
   "nbconvert_exporter": "python",
   "pygments_lexer": "ipython3",
   "version": "3.13.3"
  }
 },
 "nbformat": 4,
 "nbformat_minor": 5
}
