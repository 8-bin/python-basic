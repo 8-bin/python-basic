{
 "cells": [
  {
   "cell_type": "markdown",
   "id": "f5432dcb",
   "metadata": {},
   "source": [
    "### input( )\n",
    "- 사용자로부터 값을 입력 받기 위한 함수, 입력 받은 값은 항상 문자열이다.\n",
    "- read_message = input(\"prompt_message\")"
   ]
  },
  {
   "cell_type": "code",
   "execution_count": 2,
   "id": "1601b7b2",
   "metadata": {},
   "outputs": [
    {
     "name": "stdout",
     "output_type": "stream",
     "text": [
      "3\n"
     ]
    }
   ],
   "source": [
    "first_number = int(input('첫 번째 숫자: '))\n",
    "second_number = int(input('두 번째 숫자: '))\n",
    "print(first_number + second_number)\n",
    "\n",
    "# int() 함수는 숫자 유형으로 변환해주는 함수\n",
    "# input() 함수는 입력한 값을 문자로 받으므로 두 수를 더하려면 숫자 유형으로 변환해야 한다."
   ]
  },
  {
   "cell_type": "code",
   "execution_count": 4,
   "id": "935e3961",
   "metadata": {},
   "outputs": [
    {
     "name": "stdout",
     "output_type": "stream",
     "text": [
      "12\n",
      "3\n"
     ]
    }
   ],
   "source": [
    "first_number = input('첫 번째 숫자: ')\n",
    "second_number = input('두 번째 숫자: ')\n",
    "print(first_number + second_number)\n",
    "print(int(first_number) + int(second_number))\n",
    "\n",
    "# int() 함수를 사용하지 않으면 입력 받은 값을 숫자로 변환하지 않기 때문에\n",
    "# 문자열 더하게 된다. 따라서 1 + 2를 해도 3이 아닌 12가 출력된다.\n",
    "# 이를 방지하기 위해서는 input() 함수의 반환값을 int() 함수로 감싸주면 된다.\n"
   ]
  },
  {
   "cell_type": "markdown",
   "id": "cf7acde1",
   "metadata": {},
   "source": [
    "### print( )\n",
    "- 변수 또는 연산식의 결과를 화면에 출력하기 위한 함수"
   ]
  },
  {
   "cell_type": "code",
   "execution_count": 5,
   "id": "56c47fd8",
   "metadata": {},
   "outputs": [
    {
     "name": "stdout",
     "output_type": "stream",
     "text": [
      "Hello World\n",
      "Hello, World\n",
      "Hello\tWorld\n"
     ]
    }
   ],
   "source": [
    "# print('message', sep='', end='\\n', file=sys.stdout)\n",
    "# sep 매개변수는 출력할 값들의 구분자를 지정. 기본값은 공백\n",
    "print('Hello', 'World')\n",
    "print('Hello', 'World', sep=', ')\n",
    "print('Hello', 'World', sep='\\t') # \\t는 Tab문자"
   ]
  },
  {
   "cell_type": "code",
   "execution_count": null,
   "id": "6c1c8bd1",
   "metadata": {},
   "outputs": [
    {
     "name": "stdout",
     "output_type": "stream",
     "text": [
      "Hello\n",
      "World\n",
      "Hello\tWorld\n"
     ]
    }
   ],
   "source": [
    "# print('message', sep='', end='\\n', file=sys.stdout)\n",
    "# end 매개변수는 출력 후 줄 바꿈 문자를 지정. 기본값은 \\n\n",
    "print('Hello')\n",
    "print('World')\n",
    "\n",
    "print('Hello', end='\\t') # 개행을 하지 않고, Tab을 수행한다.\n",
    "print('World')"
   ]
  }
 ],
 "metadata": {
  "kernelspec": {
   "display_name": ".venv",
   "language": "python",
   "name": "python3"
  },
  "language_info": {
   "codemirror_mode": {
    "name": "ipython",
    "version": 3
   },
   "file_extension": ".py",
   "mimetype": "text/x-python",
   "name": "python",
   "nbconvert_exporter": "python",
   "pygments_lexer": "ipython3",
   "version": "3.13.3"
  }
 },
 "nbformat": 4,
 "nbformat_minor": 5
}
